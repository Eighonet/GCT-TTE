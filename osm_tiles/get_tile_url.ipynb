{
 "cells": [
  {
   "cell_type": "markdown",
   "metadata": {},
   "source": [
    "# How to get tile URL via Open Street Map"
   ]
  },
  {
   "cell_type": "code",
   "execution_count": 1,
   "metadata": {},
   "outputs": [],
   "source": [
    "import matplotlib.pyplot as plt\n",
    "import numpy as np\n",
    "import math\n",
    "import requests\n",
    "from io import BytesIO\n",
    "from PIL import Image\n",
    "     \n",
    "def deg2num(lat_deg, lon_deg, zoom):\n",
    "  lat_rad = math.radians(lat_deg)\n",
    "  n = 2.0 ** zoom\n",
    "  xtile = int((lon_deg + 180.0) / 360.0 * n)\n",
    "  ytile = int((1.0 - math.log(math.tan(lat_rad) + (1 / math.cos(lat_rad))) / math.pi) / 2.0 * n)\n",
    "  return (xtile, ytile)\n",
    "    \n",
    "def num2deg(xtile, ytile, zoom):\n",
    "  n = 2.0 ** zoom\n",
    "  lon_deg = xtile / n * 360.0 - 180.0\n",
    "  lat_rad = math.atan(math.sinh(math.pi * (1 - 2 * ytile / n)))\n",
    "  lat_deg = math.degrees(lat_rad)\n",
    "  return (lat_deg, lon_deg)\n",
    "   \n",
    "def getTileURL(lat_deg, lon_deg, delta_lat, delta_long, zoom, i):\n",
    "    smurl = r\"http://a.tile.openstreetmap.org/{0}/{1}/{2}.png\"\n",
    "    xmin, ymax =deg2num(lat_deg, lon_deg, zoom)\n",
    "    xmax, ymin =deg2num(lat_deg + delta_lat, lon_deg + delta_long, zoom)\n",
    "    for xtile in range(xmin, xmax+1):\n",
    "        for ytile in range(ymin,  ymax+1):   \n",
    "              imgurl = smurl.format(zoom, xtile, ytile)\n",
    "              print(imgurl)"
   ]
  },
  {
   "cell_type": "markdown",
   "metadata": {},
   "source": [
    "Here is the tile link"
   ]
  },
  {
   "cell_type": "code",
   "execution_count": 2,
   "metadata": {},
   "outputs": [
    {
     "name": "stdout",
     "output_type": "stream",
     "text": [
      "http://a.tile.openstreetmap.org/16/49417/21131.png\n"
     ]
    }
   ],
   "source": [
    "getTileURL(53.71282461, 91.46001295, 0.0,  0.0, 16, 0)"
   ]
  }
 ],
 "metadata": {
  "kernelspec": {
   "display_name": "ml",
   "language": "python",
   "name": "python3"
  },
  "language_info": {
   "codemirror_mode": {
    "name": "ipython",
    "version": 3
   },
   "file_extension": ".py",
   "mimetype": "text/x-python",
   "name": "python",
   "nbconvert_exporter": "python",
   "pygments_lexer": "ipython3",
   "version": "3.9.16"
  },
  "orig_nbformat": 4
 },
 "nbformat": 4,
 "nbformat_minor": 2
}
